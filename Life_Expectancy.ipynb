{
 "cells": [
  {
   "cell_type": "code",
   "execution_count": 1,
   "metadata": {},
   "outputs": [],
   "source": [
    "import pandas as pd\n",
    "import matplotlib.pyplot as plt\n",
    "import numpy as np\n",
    "import scipy.stats as st"
   ]
  },
  {
   "cell_type": "code",
   "execution_count": 2,
   "metadata": {},
   "outputs": [],
   "source": [
    "# loading data\n",
    "life_data_path = \"Life Expectancy Data.csv\"\n",
    "life_df = pd.read_csv(life_data_path)"
   ]
  },
  {
   "cell_type": "code",
   "execution_count": 3,
   "metadata": {},
   "outputs": [],
   "source": [
    "# data cleaning, this might be too aggressive. (removed U.S.A.)\n",
    "# Maybe we extract only relevant columns, then do a dropna to hopefully preserve some data. \n",
    "clean_ld = life_df.dropna() "
   ]
  },
  {
   "cell_type": "code",
   "execution_count": 59,
   "metadata": {},
   "outputs": [],
   "source": [
    "# Summary of potential Life expctancy factors by nation\n",
    "le_factors = ['Status','infant deaths', 'Life expectancy ', \n",
    "                        'Alcohol', 'percentage expenditure', 'Hepatitis B','Measles ', \n",
    "                        ' BMI ','Polio', 'Total expenditure','Diphtheria ', \n",
    "                        ' HIV/AIDS', 'GDP', 'Population',' thinness  1-19 years', \n",
    "                        ' thinness 5-9 years','Schooling']\n",
    "\n",
    "inital_summary = clean_ld.groupby(\"Country\")[le_factors].agg(\"min\")\n",
    "nation_statuses = clean_ld[[\"Country\",\"Status\"]].drop_duplicates()\n",
    "summary_by_nation = pd.merge(inital_summary, nation_statuses , on=[\"Country\"])"
   ]
  },
  {
   "cell_type": "code",
   "execution_count": 55,
   "metadata": {},
   "outputs": [],
   "source": [
    "# Charting LE Result function\n",
    "def chart_le_scatter(factor):\n",
    "    summary_by_nation.plot(x=factor,y='Life expectancy ',kind=\"scatter\")\n",
    "    \n",
    "def chart_le_wlr(factor):\n",
    "    x_values = summary_by_nation[factor]\n",
    "    y_values = summary_by_nation[\"Life expectancy \"]\n",
    "    (slope, intercept, rvalue, pvalue, stderr) = st.linregress(x_values, y_values)\n",
    "    regress_values = x_values * slope + intercept\n",
    "    line_eq = \"y = \" + str(round(slope,2)) + \"x +\" + str(round(intercept,2))\n",
    "    plt.scatter(x_values,y_values)\n",
    "    plt.plot(x_values,regress_values,\"r-\")\n",
    "    # # Label plot and annotate the line equation\n",
    "    plt.xlabel(factor)\n",
    "    plt.ylabel(\"Life expectancy \")\n",
    "    print(f\"The r-value is: {rvalue**2}\")\n",
    "    plt.show()"
   ]
  },
  {
   "cell_type": "code",
   "execution_count": 60,
   "metadata": {},
   "outputs": [
    {
     "data": {
      "image/png": "[encoded data removed]",
      "text/plain": [
       "<Figure size 432x288 with 1 Axes>"
      ]
     },
     "metadata": {
      "needs_background": "light"
     },
     "output_type": "display_data"
    }
   ],
   "source": [
    "# using functions\n",
    "\n",
    "chart_le_scatter(\"GDP\")\n",
    "# chart_le_wlr(le_factors[13])\n",
    "# summary_by_nation[\"Population\"]\n",
    "# short_summ = summary_by_nation[[\"Country\", \"Population\"]]\n",
    "# short_summ.sort_values(inplace=True, by=[\"Population\"])\n",
    "# india = short_summ[short_summ[\"Country\"] == \"India\"]\n",
    "# indias data is wacky bonko nonsense sooooo we arent totally sure how reliable any of it is "
   ]
  },
  {
   "attachments": {},
   "cell_type": "markdown",
   "metadata": {},
   "source": [
    "# We Were having a geat time. Made our nation based summary of potential le factors. We went\n",
    "# to plot population against le and found a strnage looking graph, we then looked deeper\n",
    "# and chris helped us see that our data is worth less than a car\n",
    "# with no wheeels no engine no steering wheel and no gas\n",
    "# so we might find another dataset. \n",
    "# reginald votes to ignore this reveletion as long as feasible and maybe just remove all the \n",
    "# dirty data.\n"
   ]
  }
 ],
 "metadata": {
  "kernelspec": {
   "display_name": "PythonData",
   "language": "python",
   "name": "python3"
  },
  "language_info": {
   "codemirror_mode": {
    "name": "ipython",
    "version": 3
   },
   "file_extension": ".py",
   "mimetype": "text/x-python",
   "name": "python",
   "nbconvert_exporter": "python",
   "pygments_lexer": "ipython3",
   "version": "3.7.7"
  },
  "orig_nbformat": 4,
  "vscode": {
   "interpreter": {
    "hash": "4904c410c1507775547b44abbbc3629ef487f941be4e53d4b3f1c576a9d2c5a0"
   }
  }
 },
 "nbformat": 4,
 "nbformat_minor": 2
}
