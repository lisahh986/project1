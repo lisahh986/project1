{
 "cells": [
  {
   "cell_type": "code",
   "execution_count": 1,
   "metadata": {},
   "outputs": [],
   "source": [
    "import pandas as pd\n",
    "import matplotlib.pyplot as plt\n",
    "import numpy as np\n",
    "import scipy.stats as st\n",
    "import requests\n",
    "import json"
   ]
  },
  {
   "cell_type": "code",
   "execution_count": 2,
   "metadata": {},
   "outputs": [],
   "source": [
    "#paths\n",
    "alcohol_path = \"Resources/alcohol.csv\"\n",
    "gdp_path = \"Resources/gdp.csv\"\n",
    "le_path = \"Resources/le.csv\"\n",
    "pop_path = \"Resources/pop.csv\"\n",
    "vax_path = \"Resources/vax.csv\"\n",
    "healthSpending_path = \"Resources/healthSpending.csv\"\n"
   ]
  },
  {
   "cell_type": "code",
   "execution_count": 3,
   "metadata": {},
   "outputs": [],
   "source": [
    "#dfs\n",
    "alcohol_data = pd.read_csv(alcohol_path)\n",
    "gdp_data = pd.read_csv(gdp_path)\n",
    "le_data = pd.read_csv(le_path)\n",
    "pop_data = pd.read_csv(pop_path)\n",
    "vax_data = pd.read_csv(vax_path)\n",
    "healthSpending_data = pd.read_csv(healthSpending_path)"
   ]
  },
  {
   "cell_type": "code",
   "execution_count": 4,
   "metadata": {},
   "outputs": [],
   "source": [
    "#fixing data\n",
    "\n",
    "alcohol_data = alcohol_data[alcohol_data[\"TIME\"] != 2021]\n",
    "gdp_data = gdp_data[gdp_data[\"TIME\"] != 2021]\n",
    "healthSpending_data = healthSpending_data[healthSpending_data[\"SUBJECT\"] == \"TOT\"]\n",
    "le_data = le_data[le_data[\"SUBJECT\"] == \"TOT\"]\n",
    "pop_data = pop_data[pop_data[\"TIME\"] != 2021]\n",
    "\n",
    "vax_data = vax_data[vax_data[\"TIME\"] != 2021]\n",
    "vax_data_dtp = vax_data[vax_data[\"SUBJECT\"] == \"DTP\"]\n",
    "vax_data_measles = vax_data[vax_data[\"SUBJECT\"] == \"MEASLES\"]\n",
    "\n",
    "factor_df_list = [gdp_data,le_data,pop_data,vax_data_dtp,vax_data_measles,healthSpending_data]"
   ]
  },
  {
   "cell_type": "code",
   "execution_count": 5,
   "metadata": {},
   "outputs": [],
   "source": [
    "def format_df(df, str):\n",
    "    return df[[\"LOCATION\", \"TIME\", \"Value\"]].rename(columns={\"Value\":f\"{str}\", \"hey\":\"mo\"})"
   ]
  },
  {
   "cell_type": "code",
   "execution_count": 6,
   "metadata": {},
   "outputs": [],
   "source": [
    "alc = format_df(alcohol_data, \"ALCOHOL\")\n",
    "mega_df = pd.DataFrame(alc)\n",
    "factor_list = [\"GDP\", \"LIFE EXPECTANCY\", \"POPULATION\", \"VACCINATION DTP\", \"VACCINATION MEASLES\",\"HEALTH SPENDING\"]\n",
    "for i in range(0,len(factor_list)):\n",
    "    mega_df = pd.merge(mega_df,format_df(factor_df_list[i], factor_list[i]), how=\"left\",on=[\"LOCATION\",\"TIME\",])\n",
    "\n",
    "mega_df.rename(columns={\"LIFE EXPECTANCY\":\"Life expectancy \", \"POPULATION\": \"Population\", \"VACCINATION DTP\":\"DTP\", \"VACCINATION MEASLES\":\"MEASLES\",\"HEALTH SPENDING\":\"Total expenditure\"})\n",
    "mega_df.dropna()\n",
    "mega_df.to_csv(\"fuzzy.csv\")"
   ]
  },
  {
   "cell_type": "code",
   "execution_count": 7,
   "metadata": {},
   "outputs": [],
   "source": [
    "def exportFuzzyCsvFile():\n",
    "    mega_df.to_csv(\"fuzzy.csv\")"
   ]
  }
 ],
 "metadata": {
  "kernelspec": {
   "display_name": "Python 3 (ipykernel)",
   "language": "python",
   "name": "python3"
  },
  "language_info": {
   "codemirror_mode": {
    "name": "ipython",
    "version": 3
   },
   "file_extension": ".py",
   "mimetype": "text/x-python",
   "name": "python",
   "nbconvert_exporter": "python",
   "pygments_lexer": "ipython3",
   "version": "3.7.15"
  },
  "vscode": {
   "interpreter": {
    "hash": "4904c410c1507775547b44abbbc3629ef487f941be4e53d4b3f1c576a9d2c5a0"
   }
  }
 },
 "nbformat": 4,
 "nbformat_minor": 2
}
